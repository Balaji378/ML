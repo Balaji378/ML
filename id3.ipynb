import pandas as pd
from sklearn.model_selection import train_test_split
from sklearn.tree import DecisionTreeClassifier, export_text
from sklearn.preprocessing import LabelEncoder
from sklearn.metrics import accuracy_score, classification_report

# Load the dataset
file_path = '/content/weather.csv'
weather_data = pd.read_csv(file_path)

# Encode categorical features
label_encoders = {}
encoded_data = weather_data.copy()

# Encode each categorical column
for col in ['outlook', 'temperature', 'humidity', 'windy', 'play']:
    le = LabelEncoder()
    encoded_data[col] = le.fit_transform(weather_data[col])
    label_encoders[col] = le

# Split dataset into features and target
X = encoded_data[['outlook', 'temperature', 'humidity', 'windy']]
y = encoded_data['play']

# Split the dataset into training and testing sets
X_train, X_test, y_train, y_test = train_test_split(X, y, test_size=0.3, random_state=42)

# Train a Decision Tree using the ID3 algorithm
model = DecisionTreeClassifier(criterion='entropy')
model.fit(X_train, y_train)

# Display the trained decision tree
tree_rules = export_text(model, feature_names=['outlook', 'temperature', 'humidity', 'windy'])
print("Decision Tree:\n", tree_rules)

# Predict on the test set
y_pred = model.predict(X_test)

# Evaluate the model
print("Accuracy:", accuracy_score(y_test, y_pred))
print("Classification Report:\n", classification_report(y_test, y_pred))
